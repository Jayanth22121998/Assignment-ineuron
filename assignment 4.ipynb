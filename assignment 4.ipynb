{
 "cells": [
  {
   "cell_type": "markdown",
   "metadata": {},
   "source": [
    "## 1.1 Write a Python Program(with class concepts) to find the area of the triangle using the below formula."
   ]
  },
  {
   "cell_type": "code",
   "execution_count": 18,
   "metadata": {},
   "outputs": [],
   "source": [
    "#Parent class\n",
    "class Triangle:\n",
    "    def __init__(self):\n",
    "        sides=['a','b','c']\n",
    "        self.TriangleSides=sides       \n",
    "    def sidesOfTriangle(self):\n",
    "        self.sidesOfT=[input(\"Enter the Side \"+i+\" :\") for i in self.TriangleSides]        \n",
    "#child class       \n",
    "class Area(Triangle):\n",
    "    def __init__(self):\n",
    "        Triangle.__init__(self)  \n",
    "    def areaOfTriangle(self):\n",
    "        # Iterator has been created to iterate sides of triangle from collection\n",
    "        triangleSides=iter(self.sidesOfT)\n",
    "        a=float(next(triangleSides))\n",
    "        b=float(next(triangleSides))\n",
    "        c=float(next(triangleSides))      \n",
    "        s= (a+b+c)*0.5        \n",
    "        # Area of Triangle         \n",
    "        Area = (s*(s-a)*(s-b)*(s-c))**0.5    \n",
    "        print(\"The sides of triangle are a:\"+str(a)+\", b:\"+str(b)+\", c:\"+str(c))     \n",
    "        print('The Area of the triangle is:' ,Area )\n",
    "        "
   ]
  },
  {
   "cell_type": "code",
   "execution_count": 19,
   "metadata": {},
   "outputs": [],
   "source": [
    "obj = Area()"
   ]
  },
  {
   "cell_type": "code",
   "execution_count": 20,
   "metadata": {},
   "outputs": [
    {
     "name": "stdout",
     "output_type": "stream",
     "text": [
      "Enter the Side a :10\n",
      "Enter the Side b :10\n",
      "Enter the Side c :10\n"
     ]
    }
   ],
   "source": [
    "obj.sidesOfTriangle()"
   ]
  },
  {
   "cell_type": "code",
   "execution_count": 21,
   "metadata": {},
   "outputs": [
    {
     "name": "stdout",
     "output_type": "stream",
     "text": [
      "The sides of triangle are a:10.0, b:10.0, c:10.0\n",
      "The Area of the triangle is: 43.30127018922193\n"
     ]
    }
   ],
   "source": [
    "obj.areaOfTriangle()"
   ]
  },
  {
   "cell_type": "markdown",
   "metadata": {},
   "source": [
    "## Write a function filter_long_words() that takes a list of words and an integer n and returns the list of words that are longer than n. \n"
   ]
  },
  {
   "cell_type": "code",
   "execution_count": 10,
   "metadata": {},
   "outputs": [
    {
     "name": "stdout",
     "output_type": "stream",
     "text": [
      "Enter number of elements : 3\n",
      "a\n",
      "aa\n",
      "aaaaaaa\n",
      "input list: ['a', 'aa', 'aaaaaaa']\n",
      "Output list: ['aaaaaaa']\n"
     ]
    }
   ],
   "source": [
    "def filter_long_words(words, n):\n",
    "    filterlist = []\n",
    "    for i in words:\n",
    "        if len(i) > n:\n",
    "            filterlist.append(i)\n",
    "    return filterlist\n",
    "def func():\n",
    "    givenlist = []\n",
    "    n = int(input(\"Enter number of elements : \")) \n",
    "    for i in range(0, n): \n",
    "        ele = (input()) \n",
    "        givenlist.append(ele) # adding the element \n",
    "    print(\"input list:\",givenlist) \n",
    "    print(\"Output list:\",filter_long_words(givenlist, 5))\n",
    "func()"
   ]
  },
  {
   "cell_type": "markdown",
   "metadata": {},
   "source": [
    "## Write a Python program using function concept that maps list of words into a list of integers representing the lengths of the corresponding words. \n"
   ]
  },
  {
   "cell_type": "code",
   "execution_count": 15,
   "metadata": {},
   "outputs": [
    {
     "name": "stdout",
     "output_type": "stream",
     "text": [
      "Input : Please enter Words : a,aa,aaaaa\n",
      "Output: Length of Words are : [1, 2, 5]\n"
     ]
    }
   ],
   "source": [
    "#Function to map length of words with words \n",
    "def mapping(List):\n",
    "        return list(map(len, List))\n",
    "List=list(input(\"Input : Please enter Words : \").split(\",\"))\n",
    "#List Comprehension has been done to remove trailing white spaces\n",
    "List1=[x.strip() for x in List]\n",
    "#function Execution\n",
    "lengths=mapping(List1)\n",
    "print(\"Output: Length of Words are :\",lengths)"
   ]
  },
  {
   "cell_type": "markdown",
   "metadata": {},
   "source": [
    "## 2.2 Write a Python function which takes a character (i.e. a string of length 1) and returns True if it is a vowel, False otherwise."
   ]
  },
  {
   "cell_type": "code",
   "execution_count": 1,
   "metadata": {},
   "outputs": [
    {
     "name": "stdout",
     "output_type": "stream",
     "text": [
      "enter the character:d\n",
      "d\n"
     ]
    },
    {
     "data": {
      "text/plain": [
       "False"
      ]
     },
     "execution_count": 1,
     "metadata": {},
     "output_type": "execute_result"
    }
   ],
   "source": [
    "def vowel():\n",
    "    char= input(\"enter the character:\")\n",
    "    print(char)\n",
    "    if(char=='a'or char == 'e' or char =='i' or char == 'o' or char == 'u' or char=='A'or char == 'E' or char =='I' or char == 'O' or char == 'U'):\n",
    "        return True\n",
    "    else:\n",
    "        return False\n",
    "vowel()"
   ]
  },
  {
   "cell_type": "code",
   "execution_count": null,
   "metadata": {},
   "outputs": [],
   "source": []
  }
 ],
 "metadata": {
  "kernelspec": {
   "display_name": "Python 3",
   "language": "python",
   "name": "python3"
  },
  "language_info": {
   "codemirror_mode": {
    "name": "ipython",
    "version": 3
   },
   "file_extension": ".py",
   "mimetype": "text/x-python",
   "name": "python",
   "nbconvert_exporter": "python",
   "pygments_lexer": "ipython3",
   "version": "3.7.6"
  }
 },
 "nbformat": 4,
 "nbformat_minor": 4
}
