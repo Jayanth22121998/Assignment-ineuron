{
 "cells": [
  {
   "cell_type": "markdown",
   "metadata": {},
   "source": [
    "# 1.1 Write a Python Program to implement your own myreduce() function which works exactly like Python's built-in function reduce() "
   ]
  },
  {
   "cell_type": "code",
   "execution_count": 72,
   "metadata": {},
   "outputs": [
    {
     "name": "stdout",
     "output_type": "stream",
     "text": [
      "Enter number of elements : 5\n",
      "11\n",
      "22\n",
      "3\n",
      "44\n",
      "1\n",
      "The input list is: [11, 22, 3, 44, 1]\n",
      "Reduced sum is  81\n"
     ]
    }
   ],
   "source": [
    "# we pass the original list as argument to the function\n",
    "def function(list):\n",
    "    #create an empty list to extend 'list' elements\n",
    "    list1=[]\n",
    "    #we create a new list ino order to avoid the mutability issues causing to our original list.\n",
    "    list1.extend(list)\n",
    "    list1\n",
    "    length= len(list1)\n",
    "    length\n",
    "    for i in range(length-1):\n",
    "        a= list1[i]+list1[i+1];\n",
    "        list1[i+1]=a;\n",
    "    print(\"Reduced sum is \", a)\n",
    "#get list input from user\n",
    "lst = [] \n",
    "n = int(input(\"Enter number of elements : \"))\n",
    "for j in range(0, n): \n",
    "    elements =int(input()) \n",
    "    lst.append(elements) # adding the element \n",
    "print(\"The input list is:\",lst) \n",
    "#function call\n",
    "function(lst)    \n"
   ]
  },
  {
   "cell_type": "markdown",
   "metadata": {},
   "source": [
    "# 1.2 Write a Python program to implement your own myfilter() function which works exactly like Python's built-in function filter() "
   ]
  },
  {
   "cell_type": "code",
   "execution_count": 71,
   "metadata": {},
   "outputs": [
    {
     "name": "stdout",
     "output_type": "stream",
     "text": [
      "Enter number of elements : 5\n",
      "100\n",
      "232\n",
      "442\n",
      "221\n",
      "665\n",
      "The input list is: [100, 232, 442, 221, 665]\n",
      "The filtered list is: [100, 232, 442]\n"
     ]
    }
   ],
   "source": [
    "# filter even values from a list\n",
    "def func(f): \n",
    "#list to store output \n",
    "    output = [] \n",
    "    for i in f:\n",
    "        if i % 2 == 0:  \n",
    "            output.append(i) \n",
    "    print(\"The filtered list is:\", output) \n",
    "#creating a list\n",
    "a = [] \n",
    "n = int(input(\"Enter number of elements : \"))\n",
    "for k in range(0, n): \n",
    "    elements =int(input()) \n",
    "    a.append(elements) # adding the element \n",
    "print(\"The input list is:\",a) \n",
    "func(a)"
   ]
  },
  {
   "cell_type": "markdown",
   "metadata": {},
   "source": [
    "# 2. Implement List comprehensions to produce the following lists. \n"
   ]
  },
  {
   "cell_type": "markdown",
   "metadata": {},
   "source": [
    "## ['A', 'C', 'A', 'D', 'G', 'I', ’L’, ‘ D’] \n"
   ]
  },
  {
   "cell_type": "code",
   "execution_count": 95,
   "metadata": {},
   "outputs": [
    {
     "name": "stdout",
     "output_type": "stream",
     "text": [
      "['A', 'C', 'A', 'D', 'G', 'I', 'L', 'D']\n"
     ]
    }
   ],
   "source": [
    "#declare string\n",
    "word= \"ACADGILD\"\n",
    "#new list to store the letters\n",
    "l=[]\n",
    "lc=[i for i in word ]\n",
    "l.extend(i) #extend i to list\n",
    "print(lc)"
   ]
  },
  {
   "cell_type": "markdown",
   "metadata": {},
   "source": [
    "## ['x', 'xx', 'xxx', 'xxxx', 'y', 'yy', 'yyy', 'yyyy', 'z', 'zz', 'zzz', 'zzzz'] "
   ]
  },
  {
   "cell_type": "code",
   "execution_count": 132,
   "metadata": {},
   "outputs": [
    {
     "name": "stdout",
     "output_type": "stream",
     "text": [
      "['x', 'xx', 'xxx', 'xxxx', 'y', 'yy', 'yyy', 'yyyy', 'z', 'zz', 'zzz', 'zzzz']\n"
     ]
    }
   ],
   "source": [
    "mylist = ['x','y','z']\n",
    "result = [item*n for item in mylist for n in range(1,5)]\n",
    "print(result)"
   ]
  },
  {
   "cell_type": "markdown",
   "metadata": {},
   "source": [
    "## 'x', 'y', 'z', 'xx', 'yy', 'zz', 'xxx', 'yyy', 'zzz', 'xxxx', 'yyyy', 'zzzz'] \n"
   ]
  },
  {
   "cell_type": "code",
   "execution_count": 135,
   "metadata": {},
   "outputs": [
    {
     "name": "stdout",
     "output_type": "stream",
     "text": [
      "['x', 'y', 'z', 'xx', 'yy', 'zz', 'xxx', 'yyy', 'zzz', 'xxxx', 'yyyy', 'zzzz']\n"
     ]
    }
   ],
   "source": [
    "mylist1 = ['x','y','z']\n",
    "result1 = [items*c for c in range(1,5) for items in mylist1]\n",
    "print(result1)"
   ]
  },
  {
   "cell_type": "markdown",
   "metadata": {},
   "source": [
    "## [[2], [3], [4], [3], [4], [5], [4], [5], [6]]"
   ]
  },
  {
   "cell_type": "code",
   "execution_count": 136,
   "metadata": {},
   "outputs": [
    {
     "name": "stdout",
     "output_type": "stream",
     "text": [
      "[[2], [3], [4], [3], [4], [5], [4], [5], [6]]\n"
     ]
    }
   ],
   "source": [
    "mylist2 = [2,3,4]\n",
    "result2 = [ [a+num] for a in mylist2 for num in range(0,3)]\n",
    "print(result2)"
   ]
  },
  {
   "cell_type": "markdown",
   "metadata": {},
   "source": [
    "##  [[2, 3, 4, 5], [3, 4, 5, 6], \n"
   ]
  },
  {
   "cell_type": "code",
   "execution_count": 137,
   "metadata": {},
   "outputs": [
    {
     "name": "stdout",
     "output_type": "stream",
     "text": [
      "[[2, 3, 4, 5], [3, 4, 5, 6], [4, 5, 6, 7], [5, 6, 7, 8]]\n"
     ]
    }
   ],
   "source": [
    "mylist3 = [2,3,4,5]\n",
    "result3 = [[g+num1 for g in mylist3] for num1 in range(0,4)]\n",
    "print(result3)"
   ]
  },
  {
   "cell_type": "code",
   "execution_count": null,
   "metadata": {},
   "outputs": [],
   "source": []
  }
 ],
 "metadata": {
  "kernelspec": {
   "display_name": "Python 3",
   "language": "python",
   "name": "python3"
  },
  "language_info": {
   "codemirror_mode": {
    "name": "ipython",
    "version": 3
   },
   "file_extension": ".py",
   "mimetype": "text/x-python",
   "name": "python",
   "nbconvert_exporter": "python",
   "pygments_lexer": "ipython3",
   "version": "3.7.6"
  }
 },
 "nbformat": 4,
 "nbformat_minor": 4
}
